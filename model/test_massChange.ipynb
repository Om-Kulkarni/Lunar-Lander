{
 "cells": [
  {
   "cell_type": "markdown",
   "metadata": {},
   "source": [
    "The plan for this test run is to give an upward thrust of 100N (main thruster) to the LunarModule till the fuel reserves deplete. This will check if we are successfully altering the mass of the Lunar Module."
   ]
  },
  {
   "cell_type": "code",
   "execution_count": 2,
   "metadata": {},
   "outputs": [],
   "source": [
    "import pybullet as p\n",
    "import pybullet_data\n",
    "#from pybullet_object_models import ycb_objects\n",
    "import numpy as np\n",
    "import time\n",
    "import math as m\n",
    "import os, inspect"
   ]
  },
  {
   "cell_type": "code",
   "execution_count": 3,
   "metadata": {},
   "outputs": [],
   "source": [
    "# Scaling factors for force and torque\n",
    "ALPHA = 100\n",
    "BETA = 50\n",
    "\n",
    "DURATION = 1000"
   ]
  },
  {
   "cell_type": "code",
   "execution_count": 4,
   "metadata": {},
   "outputs": [],
   "source": [
    "# Fixed Thrust values\n",
    "mainThrust = 100\n",
    "sideThrust = 2.5\n",
    "\n",
    "# mass lost by main theuster per time step of 50ms\n",
    "dm = 0.25"
   ]
  },
  {
   "cell_type": "code",
   "execution_count": 1,
   "metadata": {},
   "outputs": [
    {
     "ename": "NameError",
     "evalue": "name 'p' is not defined",
     "output_type": "error",
     "traceback": [
      "\u001b[0;31m---------------------------------------------------------------------------\u001b[0m",
      "\u001b[0;31mNameError\u001b[0m                                 Traceback (most recent call last)",
      "\u001b[0;32m<ipython-input-1-ce9cacbf3385>\u001b[0m in \u001b[0;36m<module>\u001b[0;34m\u001b[0m\n\u001b[0;32m----> 1\u001b[0;31m \u001b[0mp\u001b[0m\u001b[0;34m.\u001b[0m\u001b[0mdisconnect\u001b[0m\u001b[0;34m(\u001b[0m\u001b[0;34m)\u001b[0m\u001b[0;34m\u001b[0m\u001b[0;34m\u001b[0m\u001b[0m\n\u001b[0m",
      "\u001b[0;31mNameError\u001b[0m: name 'p' is not defined"
     ]
    }
   ],
   "source": [
    "p.disconnect()"
   ]
  },
  {
   "cell_type": "code",
   "execution_count": 5,
   "metadata": {},
   "outputs": [],
   "source": [
    "# ------------------------ #\n",
    "# --- Setup simulation --- #\n",
    "# ------------------------ #\n",
    "\n",
    "# Create pybullet GUI\n",
    "physics_client_id = p.connect(p.GUI)\n",
    "p.resetDebugVisualizerCamera(1.8, 120, -50, [0.0, -0.0, -0.0])\n",
    "p.resetSimulation()\n",
    "p.setPhysicsEngineParameter(numSolverIterations=150)\n",
    "sim_timestep = 1.0/240\n",
    "p.setTimeStep(sim_timestep)\n",
    "p.setRealTimeSimulation(0)\n",
    "\n",
    "p.loadURDF(os.path.join(pybullet_data.getDataPath(), \"plane.urdf\"))\n",
    "\n",
    "p.setGravity(0, 0, -1.62)\n",
    "\n",
    "urdf_path = r\"Lunar_Lander.urdf\"\n",
    "landerId = p.loadURDF(urdf_path, basePosition=[0, 0, 0.5])"
   ]
  },
  {
   "cell_type": "code",
   "execution_count": 6,
   "metadata": {},
   "outputs": [],
   "source": [
    "sphereId = p.loadURDF(os.path.join(pybullet_data.getDataPath(), \"sphere2red.urdf\"), [3, 4, 2])"
   ]
  },
  {
   "cell_type": "code",
   "execution_count": 7,
   "metadata": {},
   "outputs": [
    {
     "data": {
      "text/plain": [
       "5.0"
      ]
     },
     "execution_count": 7,
     "metadata": {},
     "output_type": "execute_result"
    }
   ],
   "source": [
    "# we have assume mass of fuel to be 50% the mass of the lander\n",
    "\n",
    "mass_fuel_i = p.getDynamicsInfo(landerId, -1)[0] / 2\n",
    "mass_fuel_i\n"
   ]
  },
  {
   "cell_type": "code",
   "execution_count": 8,
   "metadata": {},
   "outputs": [
    {
     "name": "stdout",
     "output_type": "stream",
     "text": [
      "Timestep = 0\n",
      "Lander Position = (0.0, 0.0, 0.499971875)\n"
     ]
    },
    {
     "ename": "NameError",
     "evalue": "name 'currMass' is not defined",
     "output_type": "error",
     "traceback": [
      "\u001b[0;31m---------------------------------------------------------------------------\u001b[0m",
      "\u001b[0;31mNameError\u001b[0m                                 Traceback (most recent call last)",
      "\u001b[0;32m<ipython-input-8-56b25ec91f54>\u001b[0m in \u001b[0;36m<module>\u001b[0;34m\u001b[0m\n\u001b[1;32m     23\u001b[0m     \u001b[0mprint\u001b[0m\u001b[0;34m(\u001b[0m\u001b[0;34m'Timestep = {}'\u001b[0m\u001b[0;34m.\u001b[0m\u001b[0mformat\u001b[0m\u001b[0;34m(\u001b[0m\u001b[0mi\u001b[0m\u001b[0;34m)\u001b[0m\u001b[0;34m)\u001b[0m\u001b[0;34m\u001b[0m\u001b[0;34m\u001b[0m\u001b[0m\n\u001b[1;32m     24\u001b[0m     \u001b[0mprint\u001b[0m\u001b[0;34m(\u001b[0m\u001b[0;34m'Lander Position = {}'\u001b[0m\u001b[0;34m.\u001b[0m\u001b[0mformat\u001b[0m\u001b[0;34m(\u001b[0m\u001b[0mlanderPos\u001b[0m\u001b[0;34m)\u001b[0m\u001b[0;34m)\u001b[0m\u001b[0;34m\u001b[0m\u001b[0;34m\u001b[0m\u001b[0m\n\u001b[0;32m---> 25\u001b[0;31m     \u001b[0mprint\u001b[0m\u001b[0;34m(\u001b[0m\u001b[0;34m'Current Fuel Mass = {}'\u001b[0m\u001b[0;34m.\u001b[0m\u001b[0mformat\u001b[0m\u001b[0;34m(\u001b[0m\u001b[0mcurrMass\u001b[0m \u001b[0;34m-\u001b[0m \u001b[0;36m25\u001b[0m\u001b[0;34m)\u001b[0m\u001b[0;34m)\u001b[0m\u001b[0;34m\u001b[0m\u001b[0;34m\u001b[0m\u001b[0m\n\u001b[0m\u001b[1;32m     26\u001b[0m \u001b[0;34m\u001b[0m\u001b[0m\n\u001b[1;32m     27\u001b[0m     \u001b[0mprint\u001b[0m\u001b[0;34m(\u001b[0m\u001b[0;34m'\\n'\u001b[0m\u001b[0;34m)\u001b[0m\u001b[0;34m\u001b[0m\u001b[0;34m\u001b[0m\u001b[0m\n",
      "\u001b[0;31mNameError\u001b[0m: name 'currMass' is not defined"
     ]
    }
   ],
   "source": [
    "for i in range(DURATION):\n",
    "\n",
    "    p.stepSimulation()\n",
    "    time.sleep(0.05)\n",
    "\n",
    "    landerPos, landerOrn = p.getBasePositionAndOrientation(landerId)\n",
    "    spherePos, sphereOrn = p.getBasePositionAndOrientation(sphereId)\n",
    "    \n",
    "    # We apply force till the fuel depletes\n",
    "    if ((p.getDynamicsInfo(landerId, -1)[0] -25) > 0):\n",
    "        \n",
    "        force = (np.array([0, 0, 100]))\n",
    "        p.applyExternalForce(objectUniqueId=landerId, linkIndex=-1,\n",
    "                             forceObj=force, posObj=landerPos, flags=p.WORLD_FRAME)\n",
    "        \n",
    "        p.applyExternalForce(objectUniqueId=sphereId, linkIndex=-1,\n",
    "                             forceObj=force, posObj=spherePos, flags=p.WORLD_FRAME)\n",
    "        \n",
    "        # change the mass of the lunarModule by dm\n",
    "        currMass = p.getDynamicsInfo(landerId, -1)[0] - dm\n",
    "        p.changeDynamics(landerId, -1, mass =  currMass)\n",
    "    \n",
    "    print('Timestep = {}'.format(i))\n",
    "    print('Lander Position = {}'.format(landerPos))\n",
    "    print('Current Fuel Mass = {}'.format(currMass - 25))\n",
    "    \n",
    "    print('\\n')"
   ]
  },
  {
   "cell_type": "code",
   "execution_count": null,
   "metadata": {},
   "outputs": [],
   "source": []
  }
 ],
 "metadata": {
  "kernelspec": {
   "display_name": "Python 3",
   "language": "python",
   "name": "python3"
  },
  "language_info": {
   "codemirror_mode": {
    "name": "ipython",
    "version": 3
   },
   "file_extension": ".py",
   "mimetype": "text/x-python",
   "name": "python",
   "nbconvert_exporter": "python",
   "pygments_lexer": "ipython3",
   "version": "3.6.9"
  }
 },
 "nbformat": 4,
 "nbformat_minor": 4
}
